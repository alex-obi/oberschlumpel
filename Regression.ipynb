{
 "cells": [
  {
   "cell_type": "code",
   "execution_count": 1,
   "metadata": {},
   "outputs": [],
   "source": [
    "import pandas as pd\n",
    "import numpy as np\n",
    "import matplotlib.pyplot as plt"
   ]
  },
  {
   "cell_type": "code",
   "execution_count": 2,
   "metadata": {},
   "outputs": [
    {
     "data": {
      "text/html": [
       "<div>\n",
       "<style scoped>\n",
       "    .dataframe tbody tr th:only-of-type {\n",
       "        vertical-align: middle;\n",
       "    }\n",
       "\n",
       "    .dataframe tbody tr th {\n",
       "        vertical-align: top;\n",
       "    }\n",
       "\n",
       "    .dataframe thead th {\n",
       "        text-align: right;\n",
       "    }\n",
       "</style>\n",
       "<table border=\"1\" class=\"dataframe\">\n",
       "  <thead>\n",
       "    <tr style=\"text-align: right;\">\n",
       "      <th></th>\n",
       "      <th>Spieler</th>\n",
       "      <th>Marktpreis</th>\n",
       "      <th>Datum</th>\n",
       "    </tr>\n",
       "  </thead>\n",
       "  <tbody>\n",
       "    <tr>\n",
       "      <th>0</th>\n",
       "      <td>Aarón</td>\n",
       "      <td>8524900</td>\n",
       "      <td>2020-01-23 01:00:00</td>\n",
       "    </tr>\n",
       "    <tr>\n",
       "      <th>1</th>\n",
       "      <td>Aarón</td>\n",
       "      <td>8459655</td>\n",
       "      <td>2020-01-24 01:00:00</td>\n",
       "    </tr>\n",
       "    <tr>\n",
       "      <th>2</th>\n",
       "      <td>Aarón</td>\n",
       "      <td>8371633</td>\n",
       "      <td>2020-01-25 01:00:00</td>\n",
       "    </tr>\n",
       "    <tr>\n",
       "      <th>3</th>\n",
       "      <td>Aarón</td>\n",
       "      <td>8263016</td>\n",
       "      <td>2020-01-26 01:00:00</td>\n",
       "    </tr>\n",
       "    <tr>\n",
       "      <th>4</th>\n",
       "      <td>Aarón</td>\n",
       "      <td>8144400</td>\n",
       "      <td>2020-01-27 01:00:00</td>\n",
       "    </tr>\n",
       "  </tbody>\n",
       "</table>\n",
       "</div>"
      ],
      "text/plain": [
       "  Spieler  Marktpreis                Datum\n",
       "0   Aarón     8524900  2020-01-23 01:00:00\n",
       "1   Aarón     8459655  2020-01-24 01:00:00\n",
       "2   Aarón     8371633  2020-01-25 01:00:00\n",
       "3   Aarón     8263016  2020-01-26 01:00:00\n",
       "4   Aarón     8144400  2020-01-27 01:00:00"
      ]
     },
     "execution_count": 2,
     "metadata": {},
     "output_type": "execute_result"
    }
   ],
   "source": [
    "# Read marktwerte file\n",
    "\n",
    "marktwerte = pd.read_csv(\"marktwerte.csv\")\n",
    "marktwerte.head()"
   ]
  },
  {
   "cell_type": "code",
   "execution_count": 3,
   "metadata": {},
   "outputs": [],
   "source": [
    "# List all individual Spieler and save the maximum number of tracked days\n",
    "\n",
    "alive = marktwerte['Spieler'].value_counts()\n",
    "max_days = np.max(alive)"
   ]
  },
  {
   "cell_type": "code",
   "execution_count": 4,
   "metadata": {},
   "outputs": [],
   "source": [
    "# Save all Markpreise in an n x max_days matrix, where n is the number of players with full max_day support\n",
    "\n",
    "markt_matrix = np.full((sum(alive == max_days), np.max(alive)), -1)"
   ]
  },
  {
   "cell_type": "code",
   "execution_count": 6,
   "metadata": {},
   "outputs": [],
   "source": [
    "# Build maping from players to individuel IDs (row of Marktpreis matrix) and back from the ID to the name\n",
    "\n",
    "# Mappings\n",
    "spieler_to_id = {}\n",
    "id_to_spieler = []\n",
    "\n",
    "# Helpers\n",
    "last_name = \"\"\n",
    "i = -1\n",
    "j = 0\n",
    "for index, row in marktwerte.iterrows():\n",
    "    if alive[row['Spieler']] == max_days:\n",
    "        if last_name is not row['Spieler']:\n",
    "            # New player found in list\n",
    "            last_name = row['Spieler']\n",
    "            i += 1\n",
    "            spieler_to_id.setdefault(i, last_name)\n",
    "            id_to_spieler.append(row['Spieler'])\n",
    "            j = 0\n",
    "        # Save Marktpreis for all days j for each player i\n",
    "        markt_matrix[i, j] = row['Marktpreis']\n",
    "        j += 1"
   ]
  },
  {
   "cell_type": "code",
   "execution_count": 7,
   "metadata": {},
   "outputs": [],
   "source": [
    "# Generate training samples that contain n_days for each x_i and predict the n_days + 1 day as y_i\n",
    "\n",
    "samples = []\n",
    "\n",
    "n_samples = 10000\n",
    "train_split = np.arange(450)\n",
    "n_days = 14\n",
    "\n",
    "x = np.empty((n_samples, n_days))\n",
    "y = np.empty(n_samples)\n",
    "for i in range(n_samples):\n",
    "    ix = np.random.choice(train_split)\n",
    "    start_ix = np.random.randint(max_days - n_days - 1)\n",
    "    x[i] = markt_matrix[ix, start_ix:start_ix+n_days]\n",
    "    y[i] = markt_matrix[ix, start_ix+n_days]"
   ]
  },
  {
   "cell_type": "code",
   "execution_count": 8,
   "metadata": {},
   "outputs": [],
   "source": [
    "# Train a Linear Regression model with regularization loss and polynimial kernel expansion\n",
    "\n",
    "from sklearn.linear_model import Ridge\n",
    "from sklearn.preprocessing import PolynomialFeatures\n",
    "from sklearn.pipeline import make_pipeline\n",
    "\n",
    "reg = make_pipeline(PolynomialFeatures(2), Ridge(alpha=1.0))\n",
    "reg = Ridge()\n",
    "reg.fit(x, y);"
   ]
  },
  {
   "cell_type": "code",
   "execution_count": 17,
   "metadata": {},
   "outputs": [
    {
     "name": "stdout",
     "output_type": "stream",
     "text": [
      "Weston McKennie\n"
     ]
    },
    {
     "data": {
      "image/png": "[encoded data removed]",
      "text/plain": [
       "<Figure size 432x288 with 1 Axes>"
      ]
     },
     "metadata": {
      "needs_background": "light"
     },
     "output_type": "display_data"
    }
   ],
   "source": [
    "# Test the prediction for the player with index test_ix, where offset controls a shift in the\n",
    "# days from which we want to predict the offset + n_days + 1 day\n",
    "\n",
    "test_ix = 486\n",
    "offset = 10\n",
    "print(id_to_spieler[test_ix])\n",
    "\n",
    "values = list(markt_matrix[test_ix, offset:n_days+offset])\n",
    "\n",
    "for i in range(max_days - n_days - 1):\n",
    "    pred = max(reg.predict([values[-n_days:]])[0], 500000)\n",
    "    values.append(pred)\n",
    "\n",
    "plt.plot(values[:2*n_days]);\n",
    "plt.plot(markt_matrix[test_ix, offset:2*n_days + offset])\n",
    "plt.axvline(x=n_days-0.5, linestyle='--', color='black')\n",
    "plt.show()"
   ]
  },
  {
   "cell_type": "code",
   "execution_count": null,
   "metadata": {},
   "outputs": [],
   "source": []
  }
 ],
 "metadata": {
  "kernelspec": {
   "display_name": "Python 3.7.6 64-bit ('ML': conda)",
   "language": "python",
   "name": "python37664bitmlconda1d61815f512340b4b25b25471feb4940"
  },
  "language_info": {
   "codemirror_mode": {
    "name": "ipython",
    "version": 3
   },
   "file_extension": ".py",
   "mimetype": "text/x-python",
   "name": "python",
   "nbconvert_exporter": "python",
   "pygments_lexer": "ipython3",
   "version": "3.7.6"
  }
 },
 "nbformat": 4,
 "nbformat_minor": 2
}
